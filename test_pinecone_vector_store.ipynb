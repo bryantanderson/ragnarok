{
 "cells": [
  {
   "cell_type": "code",
   "execution_count": null,
   "metadata": {},
   "outputs": [],
   "source": [
    "from src.ragnarok.ragnarok import RAGnarok\n",
    "from src.ragnarok.config import RAGnarokConfig, EmbedderConfig, VectorStoreConfig\n",
    "\n",
    "pinecone_api_key = \"****\"\n",
    "\n",
    "def my_custom_chunker(text: str) -> list[str]:\n",
    "    # Custom chunking logic here\n",
    "    return [text]\n",
    "\n",
    "ragnarok_config = RAGnarokConfig(\n",
    "    chunker=my_custom_chunker,\n",
    "    embedder=EmbedderConfig(\n",
    "        embedder_type=\"openai\",\n",
    "        config = {\n",
    "            \"model\": \"text-embedding-3-small\", \n",
    "            \"api_key\": \"****\",\n",
    "        }\n",
    "    ),\n",
    "    vectorstore=VectorStoreConfig(\n",
    "        store_type=\"pinecone\",\n",
    "        config={\n",
    "            \"credentials\": {\"api_key\": pinecone_api_key},\n",
    "            \"collection_name\": \"my-collection\",\n",
    "            \"spec\": {\n",
    "                \"type\": \"serverless\",\n",
    "            }\n",
    "        }\n",
    "    ),\n",
    ")\n",
    "\n",
    "rag = RAGnarok(ragnarok_config)\n",
    "rag.process(\"samples/draft16.pdf\")\n",
    "\n"
   ]
  }
 ],
 "metadata": {
  "kernelspec": {
   "display_name": ".venv",
   "language": "python",
   "name": "python3"
  },
  "language_info": {
   "codemirror_mode": {
    "name": "ipython",
    "version": 3
   },
   "file_extension": ".py",
   "mimetype": "text/x-python",
   "name": "python",
   "nbconvert_exporter": "python",
   "pygments_lexer": "ipython3",
   "version": "3.9.19"
  }
 },
 "nbformat": 4,
 "nbformat_minor": 2
}
