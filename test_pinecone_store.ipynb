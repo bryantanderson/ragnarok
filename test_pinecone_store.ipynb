{
 "cells": [
  {
   "cell_type": "code",
   "execution_count": null,
   "metadata": {},
   "outputs": [],
   "source": [
    "from src.ragnarok.ragnarok import RAGnarok\n",
    "from src.ragnarok.config import RAGnarokConfig, EmbedderConfig, VectorStoreConfig\n",
    "\n",
    "pinecone_api_key = \"<-- your pinecone key -->\"\n",
    "\n",
    "def my_custom_chunker(text: str) -> list[str]:\n",
    "    return [text]\n",
    "\n",
    "ragnarok_config = RAGnarokConfig(\n",
    "    chunker=my_custom_chunker,\n",
    "    embedder=EmbedderConfig(\n",
    "        embedder_type=\"openai\",\n",
    "        config={\n",
    "            \"model\": \"text-embedding-3-small\",\n",
    "            \"api_key\": \"<-- your openai key -->\"\n",
    "        }\n",
    "    ),\n",
    "    vectorstore=VectorStoreConfig(\n",
    "        store_type=\"pinecone\",\n",
    "        config={\n",
    "            \"api_key\": pinecone_api_key,\n",
    "            \"collection_name\": \"my-collection\",\n",
    "            \"spec\": {\n",
    "                \"type\": \"serverless\"\n",
    "            }\n",
    "        }\n",
    "    )\n",
    ")\n",
    "\n",
    "rag = RAGnarok(ragnarok_config)\n",
    "rag.process(\"sample_doc.pdf\")"
   ]
  }
 ],
 "metadata": {
  "language_info": {
   "name": "python"
  }
 },
 "nbformat": 4,
 "nbformat_minor": 2
}
